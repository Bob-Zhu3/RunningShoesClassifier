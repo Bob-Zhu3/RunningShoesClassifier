{
 "cells": [
  {
   "cell_type": "code",
   "execution_count": null,
   "id": "a9646906",
   "metadata": {},
   "outputs": [],
   "source": [
    "%run ../src/shoe_dataset.py\n",
    "%run ../src/shoe_classifier.py\n",
    "%run ../src/image_transforms.py\n",
    "%run ../src/feature_extraction.py\n",
    "%run ../src/grad_cam.py\n",
    "%run ../src/shared.py\n",
    "%run ../src/train.py"
   ]
  },
  {
   "cell_type": "code",
   "execution_count": null,
   "id": "f9370333",
   "metadata": {},
   "outputs": [],
   "source": [
    "%run ../src/evaluate.py"
   ]
  },
  {
   "cell_type": "code",
   "execution_count": null,
   "id": "b905ffb5",
   "metadata": {
    "scrolled": true
   },
   "outputs": [],
   "source": [
    "%run ../src/predict.py"
   ]
  }
 ],
 "metadata": {
  "kernelspec": {
   "display_name": "Python 3 (ipykernel)",
   "language": "python",
   "name": "python3"
  },
  "language_info": {
   "codemirror_mode": {
    "name": "ipython",
    "version": 3
   },
   "file_extension": ".py",
   "mimetype": "text/x-python",
   "name": "python",
   "nbconvert_exporter": "python",
   "pygments_lexer": "ipython3",
   "version": "3.11.5"
  }
 },
 "nbformat": 4,
 "nbformat_minor": 5
}
